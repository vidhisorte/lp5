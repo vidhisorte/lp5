{
 "cells": [
  {
   "cell_type": "code",
   "execution_count": 10,
   "metadata": {},
   "outputs": [],
   "source": [
    "import numpy as np\n",
    "import pandas as pd\n",
    "import matplotlib.pyplot as plt"
   ]
  },
  {
   "cell_type": "code",
   "execution_count": 11,
   "metadata": {},
   "outputs": [],
   "source": [
    "train = pd.read_csv(\"Google_Stock_Price_Train.csv\")\n",
    "test = pd.read_csv(\"Google_Stock_Price_Test.csv\")"
   ]
  },
  {
   "cell_type": "code",
   "execution_count": 12,
   "metadata": {},
   "outputs": [
    {
     "data": {
      "text/html": [
       "<div>\n",
       "<style scoped>\n",
       "    .dataframe tbody tr th:only-of-type {\n",
       "        vertical-align: middle;\n",
       "    }\n",
       "\n",
       "    .dataframe tbody tr th {\n",
       "        vertical-align: top;\n",
       "    }\n",
       "\n",
       "    .dataframe thead th {\n",
       "        text-align: right;\n",
       "    }\n",
       "</style>\n",
       "<table border=\"1\" class=\"dataframe\">\n",
       "  <thead>\n",
       "    <tr style=\"text-align: right;\">\n",
       "      <th></th>\n",
       "      <th>Open</th>\n",
       "      <th>High</th>\n",
       "      <th>Low</th>\n",
       "    </tr>\n",
       "  </thead>\n",
       "  <tbody>\n",
       "    <tr>\n",
       "      <th>count</th>\n",
       "      <td>1509.000000</td>\n",
       "      <td>1509.000000</td>\n",
       "      <td>1509.000000</td>\n",
       "    </tr>\n",
       "    <tr>\n",
       "      <th>mean</th>\n",
       "      <td>598.150026</td>\n",
       "      <td>602.587780</td>\n",
       "      <td>593.266736</td>\n",
       "    </tr>\n",
       "    <tr>\n",
       "      <th>std</th>\n",
       "      <td>202.607234</td>\n",
       "      <td>203.793158</td>\n",
       "      <td>201.418625</td>\n",
       "    </tr>\n",
       "    <tr>\n",
       "      <th>min</th>\n",
       "      <td>279.120000</td>\n",
       "      <td>281.210000</td>\n",
       "      <td>277.220000</td>\n",
       "    </tr>\n",
       "    <tr>\n",
       "      <th>25%</th>\n",
       "      <td>436.860000</td>\n",
       "      <td>438.780000</td>\n",
       "      <td>434.180000</td>\n",
       "    </tr>\n",
       "    <tr>\n",
       "      <th>50%</th>\n",
       "      <td>563.710000</td>\n",
       "      <td>568.930000</td>\n",
       "      <td>558.470000</td>\n",
       "    </tr>\n",
       "    <tr>\n",
       "      <th>75%</th>\n",
       "      <td>752.920000</td>\n",
       "      <td>758.130000</td>\n",
       "      <td>746.060000</td>\n",
       "    </tr>\n",
       "    <tr>\n",
       "      <th>max</th>\n",
       "      <td>1075.199951</td>\n",
       "      <td>1078.489990</td>\n",
       "      <td>1063.550049</td>\n",
       "    </tr>\n",
       "  </tbody>\n",
       "</table>\n",
       "</div>"
      ],
      "text/plain": [
       "              Open         High          Low\n",
       "count  1509.000000  1509.000000  1509.000000\n",
       "mean    598.150026   602.587780   593.266736\n",
       "std     202.607234   203.793158   201.418625\n",
       "min     279.120000   281.210000   277.220000\n",
       "25%     436.860000   438.780000   434.180000\n",
       "50%     563.710000   568.930000   558.470000\n",
       "75%     752.920000   758.130000   746.060000\n",
       "max    1075.199951  1078.489990  1063.550049"
      ]
     },
     "execution_count": 12,
     "metadata": {},
     "output_type": "execute_result"
    }
   ],
   "source": [
    "train.describe()"
   ]
  },
  {
   "cell_type": "code",
   "execution_count": 13,
   "metadata": {},
   "outputs": [
    {
     "data": {
      "text/plain": [
       "(1509, 6)"
      ]
     },
     "execution_count": 13,
     "metadata": {},
     "output_type": "execute_result"
    }
   ],
   "source": [
    "train.shape"
   ]
  },
  {
   "cell_type": "code",
   "execution_count": 14,
   "metadata": {},
   "outputs": [
    {
     "data": {
      "text/plain": [
       "Date       object\n",
       "Open      float64\n",
       "High      float64\n",
       "Low       float64\n",
       "Close      object\n",
       "Volume     object\n",
       "dtype: object"
      ]
     },
     "execution_count": 14,
     "metadata": {},
     "output_type": "execute_result"
    }
   ],
   "source": [
    "train.dtypes"
   ]
  },
  {
   "cell_type": "code",
   "execution_count": 15,
   "metadata": {},
   "outputs": [
    {
     "data": {
      "text/plain": [
       "Date       object\n",
       "Open      float64\n",
       "High      float64\n",
       "Low       float64\n",
       "Close     float64\n",
       "Volume      int64\n",
       "dtype: object"
      ]
     },
     "execution_count": 15,
     "metadata": {},
     "output_type": "execute_result"
    }
   ],
   "source": [
    "test.dtypes"
   ]
  },
  {
   "cell_type": "code",
   "execution_count": 16,
   "metadata": {},
   "outputs": [
    {
     "data": {
      "text/plain": [
       "Date       object\n",
       "Open      float64\n",
       "High      float64\n",
       "Low       float64\n",
       "Close     float64\n",
       "Volume     object\n",
       "dtype: object"
      ]
     },
     "execution_count": 16,
     "metadata": {},
     "output_type": "execute_result"
    }
   ],
   "source": [
    "train['Close'] = train['Close'].str.replace(',','')\n",
    "train['Close'] = train['Close'].astype(np.float64)\n",
    "train.dtypes"
   ]
  },
  {
   "cell_type": "code",
   "execution_count": 20,
   "metadata": {},
   "outputs": [],
   "source": [
    "from sklearn.preprocessing import MinMaxScaler\n",
    "\n",
    "scaler = MinMaxScaler()\n",
    "\n",
    "train['Close'] = scaler.fit_transform(train['Close'].values.reshape(-1,1))\n",
    "test['Close'] = scaler.fit_transform(test['Close'].values.reshape(-1,1))"
   ]
  },
  {
   "cell_type": "code",
   "execution_count": 21,
   "metadata": {},
   "outputs": [
    {
     "data": {
      "text/plain": [
       "0       0.237573\n",
       "1       0.241514\n",
       "2       0.228781\n",
       "3       0.216419\n",
       "4       0.178548\n",
       "          ...   \n",
       "1504    0.784036\n",
       "1505    0.779378\n",
       "1506    0.769221\n",
       "1507    0.767526\n",
       "1508    0.765128\n",
       "Name: Close, Length: 1509, dtype: float64"
      ]
     },
     "execution_count": 21,
     "metadata": {},
     "output_type": "execute_result"
    }
   ],
   "source": [
    "train['Close']"
   ]
  },
  {
   "cell_type": "code",
   "execution_count": 22,
   "metadata": {},
   "outputs": [],
   "source": [
    "def create_sequences(data,time_step=6):\n",
    "    X = []\n",
    "    y = []\n",
    "    for i in range(len(data)-time_step):\n",
    "        X.append(data[i:i+time_step])\n",
    "        y.append(data[i+time_step])\n",
    "    return np.array(X),np.array(y)"
   ]
  },
  {
   "cell_type": "code",
   "execution_count": 23,
   "metadata": {},
   "outputs": [],
   "source": [
    "X_train,y_train = create_sequences(train['Close'])\n",
    "X_test,y_test = create_sequences(test['Close'])"
   ]
  },
  {
   "cell_type": "code",
   "execution_count": 24,
   "metadata": {},
   "outputs": [
    {
     "data": {
      "text/plain": [
       "((1503, 6), (1503,))"
      ]
     },
     "execution_count": 24,
     "metadata": {},
     "output_type": "execute_result"
    }
   ],
   "source": [
    "X_train.shape,y_train.shape"
   ]
  },
  {
   "cell_type": "code",
   "execution_count": 40,
   "metadata": {},
   "outputs": [
    {
     "data": {
      "text/plain": [
       "array([[0.23757287, 0.24151427, 0.22878051, 0.21641884, 0.1785483 ,\n",
       "        0.17947163],\n",
       "       [0.24151427, 0.22878051, 0.21641884, 0.1785483 , 0.17947163,\n",
       "        0.18335791],\n",
       "       [0.22878051, 0.21641884, 0.1785483 , 0.17947163, 0.18335791,\n",
       "        0.18841558],\n",
       "       ...,\n",
       "       [0.80749144, 0.79858889, 0.79069216, 0.78887312, 0.78403593,\n",
       "        0.77937791],\n",
       "       [0.79858889, 0.79069216, 0.78887312, 0.78403593, 0.77937791,\n",
       "        0.76922122],\n",
       "       [0.79069216, 0.78887312, 0.78403593, 0.77937791, 0.76922122,\n",
       "        0.76752617]])"
      ]
     },
     "execution_count": 40,
     "metadata": {},
     "output_type": "execute_result"
    }
   ],
   "source": [
    "X_train"
   ]
  },
  {
   "cell_type": "code",
   "execution_count": 25,
   "metadata": {},
   "outputs": [
    {
     "data": {
      "text/plain": [
       "((119, 6), (119,))"
      ]
     },
     "execution_count": 25,
     "metadata": {},
     "output_type": "execute_result"
    }
   ],
   "source": [
    "X_test.shape,y_test.shape"
   ]
  },
  {
   "cell_type": "code",
   "execution_count": 26,
   "metadata": {},
   "outputs": [
    {
     "name": "stdout",
     "output_type": "stream",
     "text": [
      "Model: \"sequential\"\n",
      "_________________________________________________________________\n",
      " Layer (type)                Output Shape              Param #   \n",
      "=================================================================\n",
      " lstm (LSTM)                 (None, 6, 50)             10400     \n",
      "                                                                 \n",
      " lstm_1 (LSTM)               (None, 50)                20200     \n",
      "                                                                 \n",
      " dense (Dense)               (None, 1)                 51        \n",
      "                                                                 \n",
      "=================================================================\n",
      "Total params: 30651 (119.73 KB)\n",
      "Trainable params: 30651 (119.73 KB)\n",
      "Non-trainable params: 0 (0.00 Byte)\n",
      "_________________________________________________________________\n"
     ]
    }
   ],
   "source": [
    "from keras.models import Sequential\n",
    "from keras.layers import Dense,LSTM\n",
    "\n",
    "model = Sequential()\n",
    "model.add(LSTM(units=50,return_sequences=True,input_shape=(X_train.shape[1],1)))\n",
    "model.add(LSTM(units=50))\n",
    "model.add(Dense(units=1))\n",
    "\n",
    "model.compile(optimizer='adam',loss='mse')\n",
    "model.summary()"
   ]
  },
  {
   "cell_type": "code",
   "execution_count": 28,
   "metadata": {},
   "outputs": [
    {
     "name": "stdout",
     "output_type": "stream",
     "text": [
      "Epoch 1/10\n",
      "357/357 [==============================] - 4s 11ms/step - loss: 8.4670e-04 - val_loss: 1.8481e-04\n",
      "Epoch 2/10\n",
      "357/357 [==============================] - 4s 11ms/step - loss: 9.1157e-04 - val_loss: 0.0034\n",
      "Epoch 3/10\n",
      "357/357 [==============================] - 4s 12ms/step - loss: 8.7574e-04 - val_loss: 1.8736e-04\n",
      "Epoch 4/10\n",
      "357/357 [==============================] - 4s 11ms/step - loss: 9.2358e-04 - val_loss: 2.6648e-04\n",
      "Epoch 5/10\n",
      "357/357 [==============================] - 5s 13ms/step - loss: 7.7160e-04 - val_loss: 4.6635e-04\n",
      "Epoch 6/10\n",
      "357/357 [==============================] - 5s 14ms/step - loss: 7.7334e-04 - val_loss: 2.4298e-04\n",
      "Epoch 7/10\n",
      "357/357 [==============================] - 5s 13ms/step - loss: 8.7003e-04 - val_loss: 2.3323e-04\n",
      "Epoch 8/10\n",
      "357/357 [==============================] - 5s 13ms/step - loss: 7.8682e-04 - val_loss: 2.2817e-04\n",
      "Epoch 9/10\n",
      "357/357 [==============================] - 5s 13ms/step - loss: 8.2139e-04 - val_loss: 2.1604e-04\n",
      "Epoch 10/10\n",
      "357/357 [==============================] - 5s 13ms/step - loss: 7.6117e-04 - val_loss: 2.0041e-04\n"
     ]
    }
   ],
   "source": [
    "history = model.fit(X_train,y_train,epochs=10,batch_size=4,validation_split=0.05)"
   ]
  },
  {
   "cell_type": "code",
   "execution_count": 30,
   "metadata": {},
   "outputs": [
    {
     "name": "stdout",
     "output_type": "stream",
     "text": [
      "4/4 [==============================] - 2s 7ms/step\n"
     ]
    },
    {
     "data": {
      "text/plain": [
       "array([[0.5968652 ],\n",
       "       [0.57535285],\n",
       "       [0.5954453 ],\n",
       "       [0.7003416 ],\n",
       "       [0.68610257],\n",
       "       [0.75388366],\n",
       "       [0.7286768 ],\n",
       "       [0.7842442 ],\n",
       "       [0.9016767 ],\n",
       "       [0.97778755],\n",
       "       [0.9133098 ],\n",
       "       [0.9724422 ],\n",
       "       [0.9983214 ],\n",
       "       [0.9887109 ],\n",
       "       [0.9029271 ],\n",
       "       [0.9733828 ],\n",
       "       [0.9403978 ],\n",
       "       [0.5631012 ],\n",
       "       [0.30192822],\n",
       "       [0.4513356 ],\n",
       "       [0.28232455],\n",
       "       [0.05146626],\n",
       "       [0.17412107],\n",
       "       [0.27331656],\n",
       "       [0.28810364],\n",
       "       [0.37799233],\n",
       "       [0.49514198],\n",
       "       [0.53139657],\n",
       "       [0.5766655 ],\n",
       "       [0.6291156 ],\n",
       "       [0.5969221 ],\n",
       "       [0.7283107 ],\n",
       "       [0.82670695],\n",
       "       [0.6401169 ],\n",
       "       [0.58245665],\n",
       "       [0.38191456],\n",
       "       [0.44447833],\n",
       "       [0.51541716],\n",
       "       [0.5377955 ],\n",
       "       [0.62340415],\n",
       "       [0.7197035 ],\n",
       "       [0.93864983],\n",
       "       [0.9276591 ],\n",
       "       [0.74100584],\n",
       "       [0.8603284 ],\n",
       "       [0.8416009 ],\n",
       "       [0.7512136 ],\n",
       "       [0.5355844 ],\n",
       "       [0.55141306],\n",
       "       [0.51167655],\n",
       "       [0.28125876],\n",
       "       [0.13964178],\n",
       "       [0.27349606],\n",
       "       [0.06830263],\n",
       "       [0.02772742],\n",
       "       [0.13851877],\n",
       "       [0.05486248],\n",
       "       [0.06229644],\n",
       "       [0.11625537],\n",
       "       [0.14271799],\n",
       "       [0.05603726],\n",
       "       [0.07006265],\n",
       "       [0.14928824],\n",
       "       [0.11483444],\n",
       "       [0.16218217],\n",
       "       [0.15775043],\n",
       "       [0.19769801],\n",
       "       [0.38822484],\n",
       "       [0.4000938 ],\n",
       "       [0.48733574],\n",
       "       [0.40659982],\n",
       "       [0.3766318 ],\n",
       "       [0.13799283],\n",
       "       [0.11648518],\n",
       "       [0.20320784],\n",
       "       [0.17166108],\n",
       "       [0.10583575],\n",
       "       [0.18225697],\n",
       "       [0.14039755],\n",
       "       [0.1283418 ],\n",
       "       [0.24092461],\n",
       "       [0.29532206],\n",
       "       [0.29745397],\n",
       "       [0.4500901 ],\n",
       "       [0.5464466 ],\n",
       "       [0.55100924],\n",
       "       [0.5622626 ],\n",
       "       [0.43922132],\n",
       "       [0.45891595],\n",
       "       [0.44167238],\n",
       "       [0.37418425],\n",
       "       [0.4450345 ],\n",
       "       [0.3918231 ],\n",
       "       [0.44574445],\n",
       "       [0.4441498 ],\n",
       "       [0.42395413],\n",
       "       [0.34023792],\n",
       "       [0.37654394],\n",
       "       [0.47481734],\n",
       "       [0.6837343 ],\n",
       "       [0.8001953 ],\n",
       "       [0.7842392 ],\n",
       "       [0.76651055],\n",
       "       [0.68413204],\n",
       "       [0.6806533 ],\n",
       "       [0.7434416 ],\n",
       "       [0.7972625 ],\n",
       "       [0.7557902 ],\n",
       "       [0.8805023 ],\n",
       "       [0.85618234],\n",
       "       [1.0127661 ],\n",
       "       [0.93172956],\n",
       "       [0.9635483 ],\n",
       "       [0.8674666 ],\n",
       "       [0.8780625 ],\n",
       "       [0.66674614],\n",
       "       [0.6680709 ],\n",
       "       [0.5785109 ],\n",
       "       [0.65421855]], dtype=float32)"
      ]
     },
     "execution_count": 30,
     "metadata": {},
     "output_type": "execute_result"
    }
   ],
   "source": [
    "y_pred = model.predict(X_test)\n",
    "y_pred"
   ]
  },
  {
   "cell_type": "code",
   "execution_count": 31,
   "metadata": {},
   "outputs": [
    {
     "data": {
      "text/plain": [
       "array([[1105.5656 ],\n",
       "       [1101.8154 ],\n",
       "       [1105.318  ],\n",
       "       [1123.6035 ],\n",
       "       [1121.1213 ],\n",
       "       [1132.937  ],\n",
       "       [1128.543  ],\n",
       "       [1138.2294 ],\n",
       "       [1158.7002 ],\n",
       "       [1171.9679 ],\n",
       "       [1160.7281 ],\n",
       "       [1171.0361 ],\n",
       "       [1175.5474 ],\n",
       "       [1173.8721 ],\n",
       "       [1158.9182 ],\n",
       "       [1171.2001 ],\n",
       "       [1165.4501 ],\n",
       "       [1099.6798 ],\n",
       "       [1054.1521 ],\n",
       "       [1080.1968 ],\n",
       "       [1050.7347 ],\n",
       "       [1010.49164],\n",
       "       [1031.8728 ],\n",
       "       [1049.1646 ],\n",
       "       [1051.7422 ],\n",
       "       [1067.4116 ],\n",
       "       [1087.8331 ],\n",
       "       [1094.153  ],\n",
       "       [1102.0443 ],\n",
       "       [1111.1874 ],\n",
       "       [1105.5754 ],\n",
       "       [1128.4791 ],\n",
       "       [1145.6315 ],\n",
       "       [1113.1051 ],\n",
       "       [1103.0538 ],\n",
       "       [1068.0953 ],\n",
       "       [1079.0015 ],\n",
       "       [1091.3676 ],\n",
       "       [1095.2686 ],\n",
       "       [1110.1918 ],\n",
       "       [1126.9788 ],\n",
       "       [1165.1454 ],\n",
       "       [1163.2295 ],\n",
       "       [1130.6921 ],\n",
       "       [1151.4924 ],\n",
       "       [1148.2278 ],\n",
       "       [1132.4716 ],\n",
       "       [1094.883  ],\n",
       "       [1097.6423 ],\n",
       "       [1090.7155 ],\n",
       "       [1050.549  ],\n",
       "       [1025.8623 ],\n",
       "       [1049.1958 ],\n",
       "       [1013.4265 ],\n",
       "       [1006.3535 ],\n",
       "       [1025.6666 ],\n",
       "       [1011.0837 ],\n",
       "       [1012.3795 ],\n",
       "       [1021.78564],\n",
       "       [1026.3986 ],\n",
       "       [1011.28845],\n",
       "       [1013.73334],\n",
       "       [1027.544  ],\n",
       "       [1021.5379 ],\n",
       "       [1029.7916 ],\n",
       "       [1029.019  ],\n",
       "       [1035.9828 ],\n",
       "       [1069.1953 ],\n",
       "       [1071.2643 ],\n",
       "       [1086.4723 ],\n",
       "       [1072.3986 ],\n",
       "       [1067.1744 ],\n",
       "       [1025.575  ],\n",
       "       [1021.8257 ],\n",
       "       [1036.9432 ],\n",
       "       [1031.444  ],\n",
       "       [1019.96936],\n",
       "       [1033.2911 ],\n",
       "       [1025.9941 ],\n",
       "       [1023.8925 ],\n",
       "       [1043.5181 ],\n",
       "       [1053.0005 ],\n",
       "       [1053.3722 ],\n",
       "       [1079.9796 ],\n",
       "       [1096.7766 ],\n",
       "       [1097.5719 ],\n",
       "       [1099.5336 ],\n",
       "       [1078.0851 ],\n",
       "       [1081.5182 ],\n",
       "       [1078.5123 ],\n",
       "       [1066.7478 ],\n",
       "       [1079.0984 ],\n",
       "       [1069.8226 ],\n",
       "       [1079.2222 ],\n",
       "       [1078.9442 ],\n",
       "       [1075.4237 ],\n",
       "       [1060.8303 ],\n",
       "       [1067.1592 ],\n",
       "       [1084.2902 ],\n",
       "       [1120.7086 ],\n",
       "       [1141.01   ],\n",
       "       [1138.2285 ],\n",
       "       [1135.1381 ],\n",
       "       [1120.7778 ],\n",
       "       [1120.1714 ],\n",
       "       [1131.1167 ],\n",
       "       [1140.4988 ],\n",
       "       [1133.2693 ],\n",
       "       [1155.0092 ],\n",
       "       [1150.7697 ],\n",
       "       [1178.0653 ],\n",
       "       [1163.939  ],\n",
       "       [1169.4857 ],\n",
       "       [1152.7367 ],\n",
       "       [1154.5837 ],\n",
       "       [1117.7472 ],\n",
       "       [1117.978  ],\n",
       "       [1102.366  ],\n",
       "       [1115.5634 ]], dtype=float32)"
      ]
     },
     "execution_count": 31,
     "metadata": {},
     "output_type": "execute_result"
    }
   ],
   "source": [
    "y_pred = scaler.inverse_transform(y_pred)\n",
    "y_pred"
   ]
  },
  {
   "cell_type": "code",
   "execution_count": 33,
   "metadata": {},
   "outputs": [
    {
     "data": {
      "text/plain": [
       "array([[1102.609985],\n",
       "       [1105.52002 ],\n",
       "       [1122.26001 ],\n",
       "       [1121.76001 ],\n",
       "       [1131.97998 ],\n",
       "       [1129.790039],\n",
       "       [1137.51001 ],\n",
       "       [1155.810059],\n",
       "       [1169.969971],\n",
       "       [1164.23999 ],\n",
       "       [1170.369995],\n",
       "       [1175.839966],\n",
       "       [1175.579956],\n",
       "       [1163.689941],\n",
       "       [1169.939941],\n",
       "       [1167.699951],\n",
       "       [1111.900024],\n",
       "       [1055.800049],\n",
       "       [1080.599976],\n",
       "       [1048.579956],\n",
       "       [1001.52002 ],\n",
       "       [1037.780029],\n",
       "       [1051.939941],\n",
       "       [1052.099976],\n",
       "       [1069.699951],\n",
       "       [1089.52002 ],\n",
       "       [1094.800049],\n",
       "       [1102.459961],\n",
       "       [1111.339966],\n",
       "       [1106.630005],\n",
       "       [1126.790039],\n",
       "       [1143.75    ],\n",
       "       [1118.290039],\n",
       "       [1104.72998 ],\n",
       "       [1069.52002 ],\n",
       "       [1078.920044],\n",
       "       [1090.930054],\n",
       "       [1095.060059],\n",
       "       [1109.640015],\n",
       "       [1126.      ],\n",
       "       [1160.040039],\n",
       "       [1164.5     ],\n",
       "       [1138.170044],\n",
       "       [1149.48999 ],\n",
       "       [1149.579956],\n",
       "       [1135.72998 ],\n",
       "       [1099.819946],\n",
       "       [1097.709961],\n",
       "       [1090.880005],\n",
       "       [1049.079956],\n",
       "       [1021.570007],\n",
       "       [1053.209961],\n",
       "       [1005.099976],\n",
       "       [1004.559998],\n",
       "       [1031.790039],\n",
       "       [1006.469971],\n",
       "       [1013.409973],\n",
       "       [1025.140015],\n",
       "       [1027.810059],\n",
       "       [1007.039978],\n",
       "       [1015.450012],\n",
       "       [1031.640015],\n",
       "       [1019.969971],\n",
       "       [1032.51001 ],\n",
       "       [1029.27002 ],\n",
       "       [1037.97998 ],\n",
       "       [1074.160034],\n",
       "       [1072.079956],\n",
       "       [1087.699951],\n",
       "       [1072.959961],\n",
       "       [1067.449951],\n",
       "       [1019.97998 ],\n",
       "       [1021.179993],\n",
       "       [1040.040039],\n",
       "       [1030.050049],\n",
       "       [1017.330017],\n",
       "       [1037.310059],\n",
       "       [1024.380005],\n",
       "       [1023.719971],\n",
       "       [1048.209961],\n",
       "       [1054.790039],\n",
       "       [1053.910034],\n",
       "       [1082.76001 ],\n",
       "       [1097.569946],\n",
       "       [1098.26001 ],\n",
       "       [1100.199951],\n",
       "       [1079.22998 ],\n",
       "       [1081.77002 ],\n",
       "       [1078.589966],\n",
       "       [1066.359985],\n",
       "       [1079.579956],\n",
       "       [1069.72998 ],\n",
       "       [1079.689941],\n",
       "       [1079.23999 ],\n",
       "       [1075.660034],\n",
       "       [1060.319946],\n",
       "       [1067.800049],\n",
       "       [1084.98999 ],\n",
       "       [1119.5     ],\n",
       "       [1139.290039],\n",
       "       [1139.660034],\n",
       "       [1136.880005],\n",
       "       [1123.859985],\n",
       "       [1120.869995],\n",
       "       [1129.98999 ],\n",
       "       [1139.319946],\n",
       "       [1134.790039],\n",
       "       [1152.119995],\n",
       "       [1152.26001 ],\n",
       "       [1173.459961],\n",
       "       [1168.060059],\n",
       "       [1169.839966],\n",
       "       [1157.660034],\n",
       "       [1155.47998 ],\n",
       "       [1124.810059],\n",
       "       [1118.459961],\n",
       "       [1103.97998 ],\n",
       "       [1114.219971],\n",
       "       [1115.650024]])"
      ]
     },
     "execution_count": 33,
     "metadata": {},
     "output_type": "execute_result"
    }
   ],
   "source": [
    "y_test = scaler.inverse_transform(y_test.reshape(-1,1))\n",
    "y_test"
   ]
  },
  {
   "cell_type": "code",
   "execution_count": 34,
   "metadata": {},
   "outputs": [
    {
     "name": "stdout",
     "output_type": "stream",
     "text": [
      "332.8501679124329 13.874632785287552\n"
     ]
    }
   ],
   "source": [
    "from sklearn.metrics import mean_squared_error,mean_absolute_error\n",
    "\n",
    "mse = mean_squared_error(y_test,y_pred)\n",
    "mae = mean_absolute_error(y_test,y_pred)\n",
    "print(mse,mae)"
   ]
  },
  {
   "cell_type": "code",
   "execution_count": 35,
   "metadata": {},
   "outputs": [
    {
     "data": {
      "text/html": [
       "<div>\n",
       "<style scoped>\n",
       "    .dataframe tbody tr th:only-of-type {\n",
       "        vertical-align: middle;\n",
       "    }\n",
       "\n",
       "    .dataframe tbody tr th {\n",
       "        vertical-align: top;\n",
       "    }\n",
       "\n",
       "    .dataframe thead th {\n",
       "        text-align: right;\n",
       "    }\n",
       "</style>\n",
       "<table border=\"1\" class=\"dataframe\">\n",
       "  <thead>\n",
       "    <tr style=\"text-align: right;\">\n",
       "      <th></th>\n",
       "      <th>actual</th>\n",
       "      <th>pred</th>\n",
       "    </tr>\n",
       "  </thead>\n",
       "  <tbody>\n",
       "    <tr>\n",
       "      <th>0</th>\n",
       "      <td>1102.609985</td>\n",
       "      <td>1105.565552</td>\n",
       "    </tr>\n",
       "    <tr>\n",
       "      <th>1</th>\n",
       "      <td>1105.520020</td>\n",
       "      <td>1101.815430</td>\n",
       "    </tr>\n",
       "    <tr>\n",
       "      <th>2</th>\n",
       "      <td>1122.260010</td>\n",
       "      <td>1105.317993</td>\n",
       "    </tr>\n",
       "    <tr>\n",
       "      <th>3</th>\n",
       "      <td>1121.760010</td>\n",
       "      <td>1123.603516</td>\n",
       "    </tr>\n",
       "    <tr>\n",
       "      <th>4</th>\n",
       "      <td>1131.979980</td>\n",
       "      <td>1121.121338</td>\n",
       "    </tr>\n",
       "    <tr>\n",
       "      <th>...</th>\n",
       "      <td>...</td>\n",
       "      <td>...</td>\n",
       "    </tr>\n",
       "    <tr>\n",
       "      <th>114</th>\n",
       "      <td>1124.810059</td>\n",
       "      <td>1154.583740</td>\n",
       "    </tr>\n",
       "    <tr>\n",
       "      <th>115</th>\n",
       "      <td>1118.459961</td>\n",
       "      <td>1117.747192</td>\n",
       "    </tr>\n",
       "    <tr>\n",
       "      <th>116</th>\n",
       "      <td>1103.979980</td>\n",
       "      <td>1117.978027</td>\n",
       "    </tr>\n",
       "    <tr>\n",
       "      <th>117</th>\n",
       "      <td>1114.219971</td>\n",
       "      <td>1102.365967</td>\n",
       "    </tr>\n",
       "    <tr>\n",
       "      <th>118</th>\n",
       "      <td>1115.650024</td>\n",
       "      <td>1115.563354</td>\n",
       "    </tr>\n",
       "  </tbody>\n",
       "</table>\n",
       "<p>119 rows × 2 columns</p>\n",
       "</div>"
      ],
      "text/plain": [
       "          actual         pred\n",
       "0    1102.609985  1105.565552\n",
       "1    1105.520020  1101.815430\n",
       "2    1122.260010  1105.317993\n",
       "3    1121.760010  1123.603516\n",
       "4    1131.979980  1121.121338\n",
       "..           ...          ...\n",
       "114  1124.810059  1154.583740\n",
       "115  1118.459961  1117.747192\n",
       "116  1103.979980  1117.978027\n",
       "117  1114.219971  1102.365967\n",
       "118  1115.650024  1115.563354\n",
       "\n",
       "[119 rows x 2 columns]"
      ]
     },
     "execution_count": 35,
     "metadata": {},
     "output_type": "execute_result"
    }
   ],
   "source": [
    "df_pred = pd.DataFrame({'actual':y_test[:,0],'pred':y_pred[:,0]})\n",
    "df_pred"
   ]
  },
  {
   "cell_type": "code",
   "execution_count": 36,
   "metadata": {},
   "outputs": [
    {
     "data": {
      "image/png": "[encoded data removed]",
      "text/plain": [
       "<Figure size 640x480 with 1 Axes>"
      ]
     },
     "metadata": {},
     "output_type": "display_data"
    }
   ],
   "source": [
    "plt.plot(history.history['loss'],label='train')\n",
    "plt.plot(history.history['val_loss'],label='pred')\n",
    "plt.legend()\n",
    "plt.show()"
   ]
  },
  {
   "cell_type": "code",
   "execution_count": 37,
   "metadata": {},
   "outputs": [
    {
     "data": {
      "image/png": "[encoded data removed]",
      "text/plain": [
       "<Figure size 640x480 with 1 Axes>"
      ]
     },
     "metadata": {},
     "output_type": "display_data"
    }
   ],
   "source": [
    "plt.plot(df_pred['actual'],label='actual')\n",
    "plt.plot(df_pred['pred'],label='pred')\n",
    "plt.legend()\n",
    "plt.show()\n"
   ]
  },
  {
   "cell_type": "code",
   "execution_count": 39,
   "metadata": {},
   "outputs": [
    {
     "data": {
      "image/png": "[encoded data removed]",
      "text/plain": [
       "<Figure size 640x480 with 1 Axes>"
      ]
     },
     "metadata": {},
     "output_type": "display_data"
    }
   ],
   "source": [
    "plt.plot(train['Open'])\n",
    "plt.show()\n"
   ]
  }
 ],
 "metadata": {
  "kernelspec": {
   "display_name": "Python 3",
   "language": "python",
   "name": "python3"
  },
  "language_info": {
   "codemirror_mode": {
    "name": "ipython",
    "version": 3
   },
   "file_extension": ".py",
   "mimetype": "text/x-python",
   "name": "python",
   "nbconvert_exporter": "python",
   "pygments_lexer": "ipython3",
   "version": "3.8.10"
  },
  "orig_nbformat": 4
 },
 "nbformat": 4,
 "nbformat_minor": 2
}
